{
  "nbformat": 4,
  "nbformat_minor": 0,
  "metadata": {
    "colab": {
      "provenance": []
    },
    "kernelspec": {
      "name": "python3",
      "display_name": "Python 3"
    },
    "language_info": {
      "name": "python"
    }
  },
  "cells": [
    {
      "cell_type": "markdown",
      "source": [
        "# Interprep Most Viable Product(MVP)\n",
        "Goal: Start small. Build only the most critical features to test the idea.\n",
        "\n",
        "Start with:\n",
        "User profile intake (Name, School, Major, Career Goal)\n",
        "\n",
        "Internship/job matching based on resume and interest\n",
        "\n",
        "Skills gap identification\n",
        "\n",
        "Learning resource recommendations"
      ],
      "metadata": {
        "id": "yja_6jK0bVyY"
      }
    },
    {
      "cell_type": "markdown",
      "source": [
        "## 1. Onboarding\n",
        "\n",
        "Onboarding the user will require us taking in some needed information from the user.\n",
        "\n",
        "The information includes:\n",
        "* First and Last Name\n",
        "* Educational Institution\n",
        "* Major\n",
        "* Career Goal\n",
        "* Resume\n",
        "* Personal Projects"
      ],
      "metadata": {
        "id": "XwXRdJvKdfUl"
      }
    },
    {
      "cell_type": "code",
      "source": [
        "!pip install PyPDF2\n",
        "!pip install validators"
      ],
      "metadata": {
        "colab": {
          "base_uri": "https://localhost:8080/"
        },
        "id": "jm6wyqcyQrSQ",
        "outputId": "29b547e7-3366-495f-9835-2e9ecb54c7f1"
      },
      "execution_count": 1,
      "outputs": [
        {
          "output_type": "stream",
          "name": "stdout",
          "text": [
            "Collecting PyPDF2\n",
            "  Downloading pypdf2-3.0.1-py3-none-any.whl.metadata (6.8 kB)\n",
            "Downloading pypdf2-3.0.1-py3-none-any.whl (232 kB)\n",
            "\u001b[?25l   \u001b[90m━━━━━━━━━━━━━━━━━━━━━━━━━━━━━━━━━━━━━━━━\u001b[0m \u001b[32m0.0/232.6 kB\u001b[0m \u001b[31m?\u001b[0m eta \u001b[36m-:--:--\u001b[0m\r\u001b[2K   \u001b[91m━━━━━━━━━━━━━━━━━━━\u001b[0m\u001b[90m╺\u001b[0m\u001b[90m━━━━━━━━━━━━━━━━━━━━\u001b[0m \u001b[32m112.6/232.6 kB\u001b[0m \u001b[31m3.1 MB/s\u001b[0m eta \u001b[36m0:00:01\u001b[0m\r\u001b[2K   \u001b[90m━━━━━━━━━━━━━━━━━━━━━━━━━━━━━━━━━━━━━━━━\u001b[0m \u001b[32m232.6/232.6 kB\u001b[0m \u001b[31m4.1 MB/s\u001b[0m eta \u001b[36m0:00:00\u001b[0m\n",
            "\u001b[?25hInstalling collected packages: PyPDF2\n",
            "Successfully installed PyPDF2-3.0.1\n",
            "Collecting validators\n",
            "  Downloading validators-0.35.0-py3-none-any.whl.metadata (3.9 kB)\n",
            "Downloading validators-0.35.0-py3-none-any.whl (44 kB)\n",
            "\u001b[2K   \u001b[90m━━━━━━━━━━━━━━━━━━━━━━━━━━━━━━━━━━━━━━━━\u001b[0m \u001b[32m44.7/44.7 kB\u001b[0m \u001b[31m1.1 MB/s\u001b[0m eta \u001b[36m0:00:00\u001b[0m\n",
            "\u001b[?25hInstalling collected packages: validators\n",
            "Successfully installed validators-0.35.0\n"
          ]
        }
      ]
    },
    {
      "cell_type": "code",
      "source": [
        "# Getting the user's first name\n",
        "def get_first_name():\n",
        "    return input(\"What is your first name? \").strip()\n",
        "\n",
        "# Getting the user's last name\n",
        "def get_last_name():\n",
        "    return input(\"What is your last name? \").strip()\n",
        "\n",
        "# Getting the user's educational institution\n",
        "def get_school():\n",
        "    return input(\"What is your educational institution? \").strip()\n",
        "\n",
        "# Getting the user's major\n",
        "def get_major():\n",
        "    return input(\"What is your major? \").strip()\n",
        "\n",
        "# Getting the user's career goal\n",
        "def get_career_goal():\n",
        "    return input(\"What is your career goal? \").strip()\n",
        "\n",
        "# Getting any personal project links\n",
        "import validators\n",
        "def get_project_link():\n",
        "    while True:\n",
        "        project_link = input(\"Enter your personal project link: \").strip()\n",
        "        if validators.url(project_link):\n",
        "            return project_link\n",
        "        else:\n",
        "            print(\"❌ Invalid URL. Try again.\")\n",
        "\n",
        "\n",
        "# Getting the user's resume in PDF format and converting it to raw text\n",
        "def upload_and_parse_resume():\n",
        "  from google.colab import files\n",
        "  import PyPDF2\n",
        "  print(\"Upload your resume in PDF format: \\n\")\n",
        "\n",
        "  uploaded_resume = files.upload()\n",
        "  resume_filename = list(uploaded_resume.keys())[0]\n",
        "\n",
        "  with open(resume_filename, 'rb') as file:\n",
        "    reader = PyPDF2.PdfReader(file)\n",
        "    resume_text = \"\"\n",
        "    for page in reader.pages:\n",
        "      resume_text += page.extract_text()\n",
        "\n",
        "  return resume_text\n",
        "\n"
      ],
      "metadata": {
        "id": "AyOCeDIid5m2"
      },
      "execution_count": 3,
      "outputs": []
    },
    {
      "cell_type": "code",
      "source": [
        "# Collect the entire user profile\n",
        "def collect_user_profile():\n",
        "    print(\"👋 Let's collect your profile information:\\n\")\n",
        "\n",
        "    first_name = get_first_name()\n",
        "    last_name = get_last_name()\n",
        "    school = get_school()\n",
        "    major = get_major()\n",
        "    career_goal = get_career_goal()\n",
        "    resume = upload_and_parse_resume()\n",
        "    project_link = get_project_link()\n",
        "\n",
        "    # Store all the info in a dictionary\n",
        "    user_profile = {\n",
        "        \"first_name\": first_name,\n",
        "        \"last_name\": last_name,\n",
        "        \"school\": school,\n",
        "        \"major\": major,\n",
        "        \"career_goal\": career_goal,\n",
        "        \"resume\": resume,\n",
        "        \"project_link\": project_link\n",
        "    }\n",
        "\n",
        "    return user_profile"
      ],
      "metadata": {
        "id": "QGxVQ3xijt0j"
      },
      "execution_count": 4,
      "outputs": []
    },
    {
      "cell_type": "code",
      "source": [
        "# Saving the user profile\n",
        "import json\n",
        "\n",
        "def save_profile(profile, filename=\"user_profiles.json\"):\n",
        "    try:\n",
        "        with open(filename, \"r\") as file:\n",
        "            profiles = json.load(file)\n",
        "    except FileNotFoundError:\n",
        "        profiles = []\n",
        "\n",
        "    profiles.append(profile)\n",
        "\n",
        "    with open(filename, \"w\") as file:\n",
        "        json.dump(profiles, file, indent=4)"
      ],
      "metadata": {
        "id": "2T67_6KejMWG"
      },
      "execution_count": null,
      "outputs": []
    },
    {
      "cell_type": "markdown",
      "source": [
        "## 2. Define Skills Database (Per Industry)\n",
        "\n",
        "This is a list of required skills for different career goals.\n",
        "\n",
        "The list is simplified for prototyping but we can add more values to the list"
      ],
      "metadata": {
        "id": "W7TjymgfeJJ0"
      }
    },
    {
      "cell_type": "code",
      "source": [
        "# Im going to keep this seperate to replicate it being a standalone database that can be updated from outside of the user's data\n",
        "import csv\n",
        "\n",
        "career_skills = {\n",
        "\n",
        "        \"Foundational\": [\n",
        "        \"Mathematics\",\n",
        "        \"Natural Sciences\",\n",
        "        \"Humanities and Social Sciences\"\n",
        "    ],\n",
        "    \"Technical\": [\n",
        "        \"Design\",\n",
        "        \"Engineering Tools\",\n",
        "        \"Risk, Uncertainty, and Failure\",\n",
        "        \"Safety\",\n",
        "        \"Systems Engineering\",\n",
        "        \"Sustainability\",\n",
        "        \"Manufacturing and Construction\",\n",
        "        \"Operations and Maintenance\",\n",
        "        \"Quality Control and Quality Assurance\",\n",
        "        \"Technical Breadth\",\n",
        "        \"Technical Depth\"\n",
        "    ],\n",
        "    \"Professional Practice\": [\n",
        "        \"Communication\",\n",
        "        \"Ethical Responsibility\",\n",
        "        \"Global Knowledge and Awareness\",\n",
        "        \"Business Aspects of Engineering\",\n",
        "        \"Leadership\",\n",
        "        \"Lifelong Learning\",\n",
        "        \"Project Management\",\n",
        "        \"Public Policy and Engineering\",\n",
        "        \"Teamwork\",\n",
        "        \"Historical Perspective\",\n",
        "        \"Legal Aspects of Engineering\",\n",
        "        \"Professional Attitudes\"\n",
        "    ],\n",
        "    \"Electrical Engineer\": [\n",
        "        \"Circuit Design\", \"MATLAB\", \"Power Systems\", \"PCB Design\", \"Microcontrollers\", \"AutoCAD Electrical\"\n",
        "    ],\n",
        "    \"Software Engineer\": [\n",
        "        \"Python\", \"Java\", \"C++\", \"Algorithms\", \"Data Structures\", \"Git\", \"Agile Development\", \"SQL\"\n",
        "    ],\n",
        "    \"AI/ML Developer\": [\n",
        "        \"Python\", \"TensorFlow\", \"PyTorch\", \"Machine Learning\", \"Deep Learning\", \"NLP\", \"Data Analysis\", \"Model Deployment\"\n",
        "    ],\n",
        "    \"UX Designer\": [\n",
        "        \"Wireframing\", \"User Research\", \"Figma\", \"Prototyping\", \"Usability Testing\", \"Information Architecture\", \"UI Design\"\n",
        "    ]\n",
        "\n",
        "}\n",
        "\n",
        "with open(\"skills_database.csv\", mode=\"w\", newline=\"\") as file:\n",
        "    writer = csv.writer(file)\n",
        "    writer.writerow([\"Career\", \"Skills\"])\n",
        "\n",
        "    for career, skills in career_skills.items():\n",
        "        writer.writerow([career, \";\".join(skills)])\n",
        "\n",
        "print(\"CSV file created from dictionary!\")\n",
        "\n"
      ],
      "metadata": {
        "id": "SiQP4JQOghOp",
        "colab": {
          "base_uri": "https://localhost:8080/"
        },
        "outputId": "5c42b29a-cb05-4215-fabd-4c9e48415d5c"
      },
      "execution_count": 5,
      "outputs": [
        {
          "output_type": "stream",
          "name": "stdout",
          "text": [
            "CSV file created from dictionary!\n"
          ]
        }
      ]
    },
    {
      "cell_type": "markdown",
      "source": [
        "## 3. Match Resume to Job skills\n",
        "\n"
      ],
      "metadata": {
        "id": "_l9GwQTgTrOh"
      }
    },
    {
      "cell_type": "code",
      "source": [
        "# Extract skills found within the resume\n",
        "def extract_resume_skills(resume_text):\n",
        "    keywords = [\"Python\", \"SQL\", \"Machine Learning\", \"Git\", \"Figma\", \"React\", \"OOP\"]  # Expand later\n",
        "    found = [skill for skill in keywords if skill.lower() in resume_text.lower()]\n",
        "    return found\n",
        "\n",
        "def identify_missing_skills(found_skills, target_skills):\n",
        "    return list(set(target_skills) - set(found_skills))"
      ],
      "metadata": {
        "id": "htwJ42CET2HG"
      },
      "execution_count": 6,
      "outputs": []
    },
    {
      "cell_type": "markdown",
      "source": [
        "## 4. Recommend Learning Resources\n"
      ],
      "metadata": {
        "id": "dB32BSzMUBmE"
      }
    },
    {
      "cell_type": "code",
      "source": [
        "\n",
        "# I need to find more learning resources for the skills after we have built a cohesive engineering skill list\n",
        "learning_resources = {\n",
        "    \"Figma\": [\"https://www.learnpython.org\", \"https://www.coursera.org/specializations/python\"],\n",
        "    \"Git\": [\"https://learngitbranching.js.org/\", \"https://www.codecademy.com/learn/learn-git\"]\n",
        "}"
      ],
      "metadata": {
        "id": "CVpd0TpyUHod"
      },
      "execution_count": 7,
      "outputs": []
    },
    {
      "cell_type": "code",
      "source": [
        "# Recommend the corresponding resource depending on the missing skill entered here\n",
        "def recommend_resources(missing_skills):\n",
        "    for skill in missing_skills:\n",
        "        print(f\"\\n🔹 Skill: {skill}\")\n",
        "        if skill in learning_resources:\n",
        "            for resource in learning_resources[skill]:\n",
        "                print(f\"   ➤ Resource: {resource}\")\n",
        "        else:\n",
        "            print(\"   ⚠️ No resources available for this skill yet.\")"
      ],
      "metadata": {
        "id": "lfI5u-onUN4v"
      },
      "execution_count": 8,
      "outputs": []
    },
    {
      "cell_type": "markdown",
      "source": [
        "## 5. Test Demo"
      ],
      "metadata": {
        "id": "c7LrV1okUrZQ"
      }
    },
    {
      "cell_type": "code",
      "source": [
        "# Create an instance of a user and their corresponding information\n",
        "Murede = collect_user_profile()"
      ],
      "metadata": {
        "colab": {
          "base_uri": "https://localhost:8080/",
          "height": 232
        },
        "id": "JmbnlcCRjtVz",
        "outputId": "20a8fcbe-87ee-4893-8925-1107272b1bc9"
      },
      "execution_count": null,
      "outputs": [
        {
          "name": "stdout",
          "output_type": "stream",
          "text": [
            "👋 Let's collect your profile information:\n",
            "\n",
            "What is your first name? Murede\n",
            "What is your last name? Adetiba\n",
            "What is your educational institution? Western University \n",
            "What is your major? Electrical Engineering \n",
            "What is your career goal? AI/ML Developer\n"
          ]
        },
        {
          "output_type": "display_data",
          "data": {
            "text/plain": [
              "<IPython.core.display.HTML object>"
            ],
            "text/html": [
              "\n",
              "     <input type=\"file\" id=\"files-c6b33369-3819-4a7c-bd60-57791e6b6ea2\" name=\"files[]\" multiple disabled\n",
              "        style=\"border:none\" />\n",
              "     <output id=\"result-c6b33369-3819-4a7c-bd60-57791e6b6ea2\">\n",
              "      Upload widget is only available when the cell has been executed in the\n",
              "      current browser session. Please rerun this cell to enable.\n",
              "      </output>\n",
              "      <script>// Copyright 2017 Google LLC\n",
              "//\n",
              "// Licensed under the Apache License, Version 2.0 (the \"License\");\n",
              "// you may not use this file except in compliance with the License.\n",
              "// You may obtain a copy of the License at\n",
              "//\n",
              "//      http://www.apache.org/licenses/LICENSE-2.0\n",
              "//\n",
              "// Unless required by applicable law or agreed to in writing, software\n",
              "// distributed under the License is distributed on an \"AS IS\" BASIS,\n",
              "// WITHOUT WARRANTIES OR CONDITIONS OF ANY KIND, either express or implied.\n",
              "// See the License for the specific language governing permissions and\n",
              "// limitations under the License.\n",
              "\n",
              "/**\n",
              " * @fileoverview Helpers for google.colab Python module.\n",
              " */\n",
              "(function(scope) {\n",
              "function span(text, styleAttributes = {}) {\n",
              "  const element = document.createElement('span');\n",
              "  element.textContent = text;\n",
              "  for (const key of Object.keys(styleAttributes)) {\n",
              "    element.style[key] = styleAttributes[key];\n",
              "  }\n",
              "  return element;\n",
              "}\n",
              "\n",
              "// Max number of bytes which will be uploaded at a time.\n",
              "const MAX_PAYLOAD_SIZE = 100 * 1024;\n",
              "\n",
              "function _uploadFiles(inputId, outputId) {\n",
              "  const steps = uploadFilesStep(inputId, outputId);\n",
              "  const outputElement = document.getElementById(outputId);\n",
              "  // Cache steps on the outputElement to make it available for the next call\n",
              "  // to uploadFilesContinue from Python.\n",
              "  outputElement.steps = steps;\n",
              "\n",
              "  return _uploadFilesContinue(outputId);\n",
              "}\n",
              "\n",
              "// This is roughly an async generator (not supported in the browser yet),\n",
              "// where there are multiple asynchronous steps and the Python side is going\n",
              "// to poll for completion of each step.\n",
              "// This uses a Promise to block the python side on completion of each step,\n",
              "// then passes the result of the previous step as the input to the next step.\n",
              "function _uploadFilesContinue(outputId) {\n",
              "  const outputElement = document.getElementById(outputId);\n",
              "  const steps = outputElement.steps;\n",
              "\n",
              "  const next = steps.next(outputElement.lastPromiseValue);\n",
              "  return Promise.resolve(next.value.promise).then((value) => {\n",
              "    // Cache the last promise value to make it available to the next\n",
              "    // step of the generator.\n",
              "    outputElement.lastPromiseValue = value;\n",
              "    return next.value.response;\n",
              "  });\n",
              "}\n",
              "\n",
              "/**\n",
              " * Generator function which is called between each async step of the upload\n",
              " * process.\n",
              " * @param {string} inputId Element ID of the input file picker element.\n",
              " * @param {string} outputId Element ID of the output display.\n",
              " * @return {!Iterable<!Object>} Iterable of next steps.\n",
              " */\n",
              "function* uploadFilesStep(inputId, outputId) {\n",
              "  const inputElement = document.getElementById(inputId);\n",
              "  inputElement.disabled = false;\n",
              "\n",
              "  const outputElement = document.getElementById(outputId);\n",
              "  outputElement.innerHTML = '';\n",
              "\n",
              "  const pickedPromise = new Promise((resolve) => {\n",
              "    inputElement.addEventListener('change', (e) => {\n",
              "      resolve(e.target.files);\n",
              "    });\n",
              "  });\n",
              "\n",
              "  const cancel = document.createElement('button');\n",
              "  inputElement.parentElement.appendChild(cancel);\n",
              "  cancel.textContent = 'Cancel upload';\n",
              "  const cancelPromise = new Promise((resolve) => {\n",
              "    cancel.onclick = () => {\n",
              "      resolve(null);\n",
              "    };\n",
              "  });\n",
              "\n",
              "  // Wait for the user to pick the files.\n",
              "  const files = yield {\n",
              "    promise: Promise.race([pickedPromise, cancelPromise]),\n",
              "    response: {\n",
              "      action: 'starting',\n",
              "    }\n",
              "  };\n",
              "\n",
              "  cancel.remove();\n",
              "\n",
              "  // Disable the input element since further picks are not allowed.\n",
              "  inputElement.disabled = true;\n",
              "\n",
              "  if (!files) {\n",
              "    return {\n",
              "      response: {\n",
              "        action: 'complete',\n",
              "      }\n",
              "    };\n",
              "  }\n",
              "\n",
              "  for (const file of files) {\n",
              "    const li = document.createElement('li');\n",
              "    li.append(span(file.name, {fontWeight: 'bold'}));\n",
              "    li.append(span(\n",
              "        `(${file.type || 'n/a'}) - ${file.size} bytes, ` +\n",
              "        `last modified: ${\n",
              "            file.lastModifiedDate ? file.lastModifiedDate.toLocaleDateString() :\n",
              "                                    'n/a'} - `));\n",
              "    const percent = span('0% done');\n",
              "    li.appendChild(percent);\n",
              "\n",
              "    outputElement.appendChild(li);\n",
              "\n",
              "    const fileDataPromise = new Promise((resolve) => {\n",
              "      const reader = new FileReader();\n",
              "      reader.onload = (e) => {\n",
              "        resolve(e.target.result);\n",
              "      };\n",
              "      reader.readAsArrayBuffer(file);\n",
              "    });\n",
              "    // Wait for the data to be ready.\n",
              "    let fileData = yield {\n",
              "      promise: fileDataPromise,\n",
              "      response: {\n",
              "        action: 'continue',\n",
              "      }\n",
              "    };\n",
              "\n",
              "    // Use a chunked sending to avoid message size limits. See b/62115660.\n",
              "    let position = 0;\n",
              "    do {\n",
              "      const length = Math.min(fileData.byteLength - position, MAX_PAYLOAD_SIZE);\n",
              "      const chunk = new Uint8Array(fileData, position, length);\n",
              "      position += length;\n",
              "\n",
              "      const base64 = btoa(String.fromCharCode.apply(null, chunk));\n",
              "      yield {\n",
              "        response: {\n",
              "          action: 'append',\n",
              "          file: file.name,\n",
              "          data: base64,\n",
              "        },\n",
              "      };\n",
              "\n",
              "      let percentDone = fileData.byteLength === 0 ?\n",
              "          100 :\n",
              "          Math.round((position / fileData.byteLength) * 100);\n",
              "      percent.textContent = `${percentDone}% done`;\n",
              "\n",
              "    } while (position < fileData.byteLength);\n",
              "  }\n",
              "\n",
              "  // All done.\n",
              "  yield {\n",
              "    response: {\n",
              "      action: 'complete',\n",
              "    }\n",
              "  };\n",
              "}\n",
              "\n",
              "scope.google = scope.google || {};\n",
              "scope.google.colab = scope.google.colab || {};\n",
              "scope.google.colab._files = {\n",
              "  _uploadFiles,\n",
              "  _uploadFilesContinue,\n",
              "};\n",
              "})(self);\n",
              "</script> "
            ]
          },
          "metadata": {}
        },
        {
          "name": "stdout",
          "output_type": "stream",
          "text": [
            "Saving Murede's Techinical Resume - March 2025.pdf to Murede's Techinical Resume - March 2025.pdf\n",
            "Enter your personal project link (e.g., GitHub):N/A\n"
          ]
        }
      ]
    },
    {
      "cell_type": "code",
      "source": [
        "save_profile(Murede)\n",
        "Murede"
      ],
      "metadata": {
        "colab": {
          "base_uri": "https://localhost:8080/"
        },
        "id": "1PytcYTCRnBT",
        "outputId": "abef8431-f699-40d5-d9d4-e8ef517959f4"
      },
      "execution_count": null,
      "outputs": [
        {
          "output_type": "execute_result",
          "data": {
            "text/plain": [
              "{'first_name': 'Murede',\n",
              " 'last_name': 'Adetiba',\n",
              " 'school': 'Western University',\n",
              " 'major': 'Electrical Engineering',\n",
              " 'career_goal': 'AI/ML Developer',\n",
              " 'resume': 'Murede Adetiba  \\n      (647) 482 -0764  |     murede2005@gmail.com |  Murede  \\n \\nEDUCATION  \\n \\nWestern University                                                                                                   London, Ontario                                             \\nElectrica l and A rtificia l Intelligence Systems  Engineering                                                   Sept. 2023 – May 2028 \\n• 3.8/4.0 GPA  (90.1%). Recipient of Dean’s Honour  List Award   \\n• 3rd of ~90 teams at Western Engineering Competition,  Junior Lead for Western  Development  Society \\nWORK EXPERIENCE  \\nNPHP Tutoring                                                                                                          Toronto, Ontario                              \\nHigh School Tutor                                                                                                          Sep 2024 – Present                                                                                                             \\n• Tutored high school students in IB Math, Chemistry, and Physics, tailoring content to individual needs.  \\n• Assessed academic progress and set goals through regular communication with students, parents, and \\nteachers.  \\n• Tracked student performance using Microsoft Office tools, ensuring accurate records and personalized \\nlearning plans.  \\nZora Corp                                                                                                                     Kitchener, Ontario                               \\nSoftware Engineering Intern                                                                                             May 2024 – Aug. 2024  \\n• Developed tenant scoring algorithms using data analytics, improving the efficiency and accuracy of rental \\napplication assessments.  \\n• Created automation tools to streamline property management processes, reducing manual tasks and \\nenhancing workflow.  \\n• Analyzed rental market trends and incorporated new data sources to improve predictive insights and \\ndecision -making.  \\n• Enhanced platform scalability by optimizing tenant data processing and the management of property \\nlistings for better performance.  \\nLEADERSHIP and TEC HNICAL EXPERIENCE   \\nGLOW AI - Data -Driven Personal Assistant System                                             Mar. 2025 – Present        \\n• Developed data pipelines to process and analyze trends in scheduling, weather patterns, and user \\npreferences.  \\n• Applied NLP techniques to extract and categorize user queries for improved decision -making.  \\n• Designed UML models to map data flow, system interactions, and architecture.  \\n• Collaborated with a multidisciplinary team to refine data processing and optimize system performance.  \\n• Analyzed API data to generate insights and enhance automation efficiency.  \\nClimbers Aid                                                                                                                   Jan. 2024 - Present  \\n• Developed a sensory -enhancing motion sensor aimed at improving the rock -climbing experience for \\nvisually impaired climbers, leveraging alternative sensory inputs.  \\n• Utilized Arduino, MATLAB, Python and AutoCAD to design and implement the sensor system.  \\n• Collaboration,  the sensor to decode color data from a QR code on the climbing course, translating it into \\ndirectional feedback that aids climbers in navigation during their ascent.  \\nUMOJA Robotics                                                                                                            Jan. 2023 – Present                                                                             \\n• Taught circuit design, sensor integration, and motor control using C++ and microcontrollers for robotics.  \\n• Guided students in control systems, signal processing, and power management to optimize competition \\nperformance.  \\n• Worked with mentors to expand African Canadian STEM participation and optimize robot components.  \\nSKILLS  AND  INTERE STS \\n \\nSoft Skills: Collaboration, Leadership, Initiative, Communication   \\nTools : IntelliJ , Django,  C++, Java, MATLAB, Onshape , Microcap  \\nLibraries: TensorFlow, Pandas, NumPy, Sklearn, Seaborn, Matplotlib  \\nAchievements:  Ontario Scholars Award, FRC Design Challenge Winner, Deans Honour’s List  \\nInterests:  Music, Public Speaking, Cooking, Soccer, Volunteering,  Hiking,  Entrepreneurshi p \\n',\n",
              " 'project_link': 'N/A'}"
            ]
          },
          "metadata": {},
          "execution_count": 30
        }
      ]
    },
    {
      "cell_type": "code",
      "source": [
        "extract_resume_skills(Murede[\"resume\"])\n",
        "\n",
        "muredes_missing_skills = identify_missing_skills(extract_resume_skills(Murede[\"resume\"]), career_skills[\"UX Designer\"])\n",
        "muredes_missing_skills"
      ],
      "metadata": {
        "colab": {
          "base_uri": "https://localhost:8080/"
        },
        "id": "gf3c0A6bWC5z",
        "outputId": "7e43b06f-cf89-43f8-af34-6d30ee8a5d52"
      },
      "execution_count": null,
      "outputs": [
        {
          "output_type": "execute_result",
          "data": {
            "text/plain": [
              "['Prototyping', 'Figma', 'User Research', 'Wireframes']"
            ]
          },
          "metadata": {},
          "execution_count": 36
        }
      ]
    },
    {
      "cell_type": "code",
      "source": [
        "recommended_resources = recommend_resources(muredes_missing_skills)"
      ],
      "metadata": {
        "colab": {
          "base_uri": "https://localhost:8080/"
        },
        "id": "N9zB1oudWzYF",
        "outputId": "05ef9472-b422-4cdc-d16f-d64ca6901243"
      },
      "execution_count": null,
      "outputs": [
        {
          "output_type": "stream",
          "name": "stdout",
          "text": [
            "\n",
            "🔹 Skill: Prototyping\n",
            "   ⚠️ No resources available for this skill yet.\n",
            "\n",
            "🔹 Skill: Figma\n",
            "   ➤ Resource: https://www.learnpython.org\n",
            "   ➤ Resource: https://www.coursera.org/specializations/python\n",
            "\n",
            "🔹 Skill: User Research\n",
            "   ⚠️ No resources available for this skill yet.\n",
            "\n",
            "🔹 Skill: Wireframes\n",
            "   ⚠️ No resources available for this skill yet.\n"
          ]
        }
      ]
    },
    {
      "cell_type": "markdown",
      "source": [
        "## 6. Generate a Learning Plan\n",
        "\n",
        "**We need to come back here to build an optimal learning plan depending on the course, this is where I may need to use AI to scour the internet to get realistic time frames for completion**"
      ],
      "metadata": {
        "id": "pyG0j81UZW6e"
      }
    },
    {
      "cell_type": "code",
      "source": [
        "def generate_learning_plan(missing_skills, weeks=4):\n",
        "    plan = {}\n",
        "    skills_per_week = max(1, len(missing_skills) // weeks)\n",
        "\n",
        "    for i in range(weeks):\n",
        "        start = i * skills_per_week\n",
        "        end = start + skills_per_week\n",
        "        plan[f\"Week {i+1}\"] = missing_skills[start:end]\n",
        "\n",
        "    return plan"
      ],
      "metadata": {
        "id": "O5tahporZMnM"
      },
      "execution_count": null,
      "outputs": []
    },
    {
      "cell_type": "code",
      "source": [
        "generate_learning_plan(muredes_missing_skills)"
      ],
      "metadata": {
        "colab": {
          "base_uri": "https://localhost:8080/"
        },
        "id": "M-2mFw9dZN7n",
        "outputId": "9b697725-73a6-4137-be31-b747f1013e5b"
      },
      "execution_count": null,
      "outputs": [
        {
          "output_type": "execute_result",
          "data": {
            "text/plain": [
              "{'Week 1': ['Prototyping'],\n",
              " 'Week 2': ['Figma'],\n",
              " 'Week 3': ['User Research'],\n",
              " 'Week 4': ['Wireframes']}"
            ]
          },
          "metadata": {},
          "execution_count": 41
        }
      ]
    },
    {
      "cell_type": "markdown",
      "source": [
        "## 7. Skill Progress Tracker (Basic)\n",
        "\n",
        "* Store completed skills in a list or dictionary\n",
        "\n",
        "* Ahow remaining vs completed skills(e.g. visual progress bar if front-end later)"
      ],
      "metadata": {
        "id": "fv48pF9CaHjK"
      }
    },
    {
      "cell_type": "code",
      "source": [
        "def completed_skill_list(completed_skill):\n"
      ],
      "metadata": {
        "id": "L6tQUZuQaNmb"
      },
      "execution_count": null,
      "outputs": []
    },
    {
      "cell_type": "markdown",
      "source": [
        "## 8. Object Oriented Implementation"
      ],
      "metadata": {
        "id": "Yu6UD3oZrakn"
      }
    },
    {
      "cell_type": "code",
      "source": [
        "!pip install PyPDF2"
      ],
      "metadata": {
        "colab": {
          "base_uri": "https://localhost:8080/"
        },
        "id": "4DYFhUHotJpR",
        "outputId": "91f36b11-de44-43f3-f9cd-b09d37eb19ba"
      },
      "execution_count": null,
      "outputs": [
        {
          "output_type": "stream",
          "name": "stdout",
          "text": [
            "Collecting PyPDF2\n",
            "  Downloading pypdf2-3.0.1-py3-none-any.whl.metadata (6.8 kB)\n",
            "Downloading pypdf2-3.0.1-py3-none-any.whl (232 kB)\n",
            "\u001b[?25l   \u001b[90m━━━━━━━━━━━━━━━━━━━━━━━━━━━━━━━━━━━━━━━━\u001b[0m \u001b[32m0.0/232.6 kB\u001b[0m \u001b[31m?\u001b[0m eta \u001b[36m-:--:--\u001b[0m\r\u001b[2K   \u001b[90m━━━━━━━━━━━━━━━━━━━━━━━━━━━━━━━━━━━━━━━━\u001b[0m \u001b[32m232.6/232.6 kB\u001b[0m \u001b[31m13.5 MB/s\u001b[0m eta \u001b[36m0:00:00\u001b[0m\n",
            "\u001b[?25hInstalling collected packages: PyPDF2\n",
            "Successfully installed PyPDF2-3.0.1\n"
          ]
        }
      ]
    },
    {
      "cell_type": "code",
      "source": [
        "from os import read\n",
        "import re  # PyMuPDF for PDF parsing\n",
        "from google.colab import files\n",
        "import PyPDF2\n",
        "\n",
        "class InterprepUser:\n",
        "    # Interprep User Constructor(contains all the information for a single interprep user)\n",
        "    def __init__(self):\n",
        "        self.first_name = \"\"\n",
        "        self.last_name = \"\"\n",
        "        self.email = \"\"\n",
        "        self.major = \"\"\n",
        "        self.project_link = \"\"\n",
        "        self.resume_text = \"\"\n",
        "        self.resume_skills = []\n",
        "        self.user_skills = []\n",
        "        self.missing_skills = []\n",
        "        self.learning_resources = {}\n",
        "        learning_resources = {}\n",
        "        # Example \" {\"Figma\": [\"https://www.learnpython.org\", \"https://www.coursera.org/specializations/python\"]}\n",
        "        self.skill_progress={}# preload with your dictionary\n",
        "        # Example: {\"Python\": 40, \"Verilog\": 10, \"PLC Programming\": 0}\n",
        "\n",
        "\n",
        "        \"\"\"\n",
        "        Work on creating a larger skill list and learning resources list\n",
        "\n",
        "        2️⃣ Make resume skill extraction more powerful\n",
        "          * Right now it’s hardcoded to check a small list. You could:\n",
        "\n",
        "          * Load keywords from an external CSV/JSON so it’s easier to update.\n",
        "\n",
        "          * Use NLP libraries (like spaCy) to extract technical skills dynamically from text.\n",
        "\n",
        "          * Match skills case-insensitively and account for synonyms (“ML” → “Machine Learning”).\n",
        "\n",
        "        4️⃣ Enhance the learning plan\n",
        "          * Instead of just printing steps:\n",
        "\n",
        "          * Break it into weekly or daily goals.\n",
        "\n",
        "          * Add estimated time commitments.\n",
        "\n",
        "          *  Track completion for each skill’s plan step.\n",
        "        \"\"\"\n",
        "\n",
        "\n",
        "    # Getting the user's first name\n",
        "    def get_first_name(self):\n",
        "        self.first_name = input(\"Enter your first name: \").strip()\n",
        "\n",
        "    # Getting the user's last name\n",
        "    def get_last_name(self):\n",
        "        self.last_name = input(\"Enter your last name: \").strip()\n",
        "\n",
        "    # Getting the user's email\n",
        "    def get_email(self):\n",
        "        email_pattern = r\"^[\\w\\.-]+@[\\w\\.-]+\\.\\w+$\"\n",
        "        while True:\n",
        "            email_input = input(\"Enter your email address: \").strip()\n",
        "            if re.match(email_pattern, email_input):\n",
        "                self.email = email_input\n",
        "                break\n",
        "            else:\n",
        "                print(\"Invalid email format. Try again.\")\n",
        "\n",
        "    # Getting the user's educational institution\n",
        "    def get_school(self):\n",
        "        self.school = input(\"Enter your educational institution: \").strip()\n",
        "\n",
        "    # Getting the user's major\n",
        "    def get_major(self):\n",
        "        self.major = input(\"Enter your major: \").strip()\n",
        "\n",
        "    # Getting personal project links(things like Github, MyHuggingFaces)\n",
        "    def get_project_link(self):\n",
        "        url_pattern = re.compile(r'^(https?://)?([\\w\\-]+\\.)+[a-z]{2,}(/[\\w\\-./?%&=]*)?$')\n",
        "        while True:\n",
        "            link = input(\"Enter your personal project link (e.g., GitHub): \").strip()\n",
        "            if url_pattern.match(link):\n",
        "                self.project_link = link\n",
        "                break\n",
        "            else:\n",
        "                print(\"Invalid link format. Try again.\")\n",
        "\n",
        "\n",
        "    # Need to come back here to find a way to keep keywords as a seperate dataset referenced\n",
        "    # Extracting skills from the user resume\n",
        "    def extract_resume_skills(self, file_path=\"skills_database.csv\" ):\n",
        "      # Upload the resume\n",
        "      print(\"Upload your resume in PDF format: \\n\")\n",
        "\n",
        "      uploaded_resume = files.upload()\n",
        "      resume_filename = list(uploaded_resume.keys())[0]\n",
        "\n",
        "      with open(resume_filename, 'rb') as file:\n",
        "        reader = PyPDF2.PdfReader(file)\n",
        "        for page in reader.pages:\n",
        "          self.resume_text += page.extract_text()\n",
        "\n",
        "      skills_dict = {}\n",
        "      with open(file_path, mode=\"r\") as file:\n",
        "          reader = csv.DictReader(file)\n",
        "          for row in reader:\n",
        "              skills_dict[row[\"Career\"].strip()] = [\n",
        "                  s.strip() for s in row[\"Skills\"].split(\";\")\n",
        "              ]\n",
        "\n",
        "        # Get the required skills for the career\n",
        "      keywords = skills_dict.get(career, [])\n",
        "\n",
        "      self.user_skills = [skill for skill in keywords if skill.lower() in self.resume_text.lower()]\n",
        "      return self.user_skills\n",
        "\n",
        "    def match_skills_from_csv(self, career, file_path=\"skills_database.csv\"):\n",
        "      \"\"\"\n",
        "      Loads skills from a CSV and matches them against the user's skills.\n",
        "      \"\"\"\n",
        "      # Load skills from CSV\n",
        "      skills_dict = {}\n",
        "      with open(file_path, mode=\"r\") as file:\n",
        "          reader = csv.DictReader(file)\n",
        "          for row in reader:\n",
        "              skills_dict[row[\"Career\"].strip()] = [\n",
        "                  s.strip() for s in row[\"Skills\"].split(\";\")\n",
        "              ]\n",
        "\n",
        "      # Get the required skills for the career\n",
        "      required_skills = skills_dict.get(career, [])\n",
        "\n",
        "      # Compare\n",
        "      matched = set(self.user_skills) & set(required_skills)\n",
        "      self.missing_skills = set(required_skills) - set(self.user_skills)\n",
        "\n",
        "      return {\n",
        "        \"matched\": list(matched),\n",
        "        \"missing\": list(self.missing_skills)\n",
        "      }\n",
        "\n",
        "    # Recomending the resources for the corresponding missing skill\n",
        "    # Ned to update the learning resource list to match more skills\n",
        "    def recommend_resources(self):\n",
        "        if not self.missing_skills:\n",
        "            print(\"No missing skills found!\")\n",
        "            return\n",
        "        for skill in self.missing_skills:\n",
        "            resources = self.learning_resources.get(skill, [])\n",
        "            print(f\"Skill: {skill}\")\n",
        "            for resource in resources:\n",
        "                print(f\"  Resource: {resource}\")\n",
        "\n",
        "    # Generate personalized learning plan for the missing students\n",
        "    def generate_plan(self):\n",
        "        print(\"\\n📅 Suggested Learning Plan:\")\n",
        "        for i, skill in enumerate(self.missing_skills, start=1):\n",
        "            resources = self.learning_resources.get(skill, [])\n",
        "            print(f\"Step {i}: Learn {skill}\")\n",
        "            for r in resources:\n",
        "                print(f\"  - {r}\")\n",
        "\n",
        "    def update_skill_progress(self, skill, progress):\n",
        "        if skill in self.skill_progress:\n",
        "            self.skill_progress[skill] = max(0, min(100, progress)) # Clamp between 0-100\n",
        "        else:\n",
        "            print(f\"{skill} is not in the current skill list.\")\n",
        "\n",
        "    def view_skill_progress(self):\n",
        "      for skill, progress in self.skill_progress.items():\n",
        "        print(f\"{skill}: {progress}% complete\")\n",
        "\n",
        "\n",
        "    def save_profile(self, filename=\"profile.json\"):\n",
        "      with open(filename, \"w\") as f:\n",
        "        json.dump(self.__dict__, f)\n",
        "\n",
        "    def load_profile(self, filename=\"profile.json\"):\n",
        "      with open(filename, \"r\") as f:\n",
        "        data = json.load(f)\n",
        "        self.__dict__.update(data)\n",
        "# Example usage:\n",
        "# app = InterprepApp()\n",
        "# app.get_first_name()\n",
        "# app.upload_and_parse_resume()\n",
        "# app.extract_skills_from_resume([\"Python\", \"Prototyping\", \"Data Analysis\"])\n",
        "# app.match_skills([\"Python\", \"Prototyping\", \"Machine Learning\"])\n",
        "# app.recommend_resources()\n",
        "# app.generate_plan()\n"
      ],
      "metadata": {
        "id": "TmAWF2-urrV2"
      },
      "execution_count": 26,
      "outputs": []
    },
    {
      "cell_type": "code",
      "source": [
        "murede = InterprepUser()\n",
        "first_name = murede.get_first_name()"
      ],
      "metadata": {
        "colab": {
          "base_uri": "https://localhost:8080/"
        },
        "id": "J5TZxa3atiSq",
        "outputId": "5cc15fc9-effa-45b3-f518-7aefd028e517"
      },
      "execution_count": 27,
      "outputs": [
        {
          "name": "stdout",
          "output_type": "stream",
          "text": [
            "Enter your first name: Murede \n"
          ]
        }
      ]
    },
    {
      "cell_type": "code",
      "source": [
        "last_name = murede.get_last_name()"
      ],
      "metadata": {
        "colab": {
          "base_uri": "https://localhost:8080/"
        },
        "id": "BEtv4RV8toWu",
        "outputId": "773d86e7-2ac8-4cc2-a52b-1d36e05dcc6f"
      },
      "execution_count": 28,
      "outputs": [
        {
          "name": "stdout",
          "output_type": "stream",
          "text": [
            "Enter your last name: Adetiba \n"
          ]
        }
      ]
    },
    {
      "cell_type": "code",
      "source": [
        "email = murede.get_email()"
      ],
      "metadata": {
        "colab": {
          "base_uri": "https://localhost:8080/"
        },
        "id": "GyPJMZc9twlN",
        "outputId": "37f92002-02cf-46b8-f1d3-812e2f2b57c5"
      },
      "execution_count": 29,
      "outputs": [
        {
          "name": "stdout",
          "output_type": "stream",
          "text": [
            "Enter your email address: murede2005@gmail.com\n"
          ]
        }
      ]
    },
    {
      "cell_type": "code",
      "source": [
        "major = murede.get_major()"
      ],
      "metadata": {
        "colab": {
          "base_uri": "https://localhost:8080/"
        },
        "id": "b83KnDs3t0pT",
        "outputId": "5affe154-8638-41c0-96cd-4bbf944b20e0"
      },
      "execution_count": 23,
      "outputs": [
        {
          "name": "stdout",
          "output_type": "stream",
          "text": [
            "Enter your major: Electrical Engineering \n"
          ]
        }
      ]
    },
    {
      "cell_type": "code",
      "source": [
        "project_link = murede.get_project_link()"
      ],
      "metadata": {
        "colab": {
          "base_uri": "https://localhost:8080/",
          "height": 287
        },
        "id": "42rHPjwct5q2",
        "outputId": "519047b2-eeef-43e0-c521-9936843510ea"
      },
      "execution_count": 24,
      "outputs": [
        {
          "output_type": "error",
          "ename": "KeyboardInterrupt",
          "evalue": "Interrupted by user",
          "traceback": [
            "\u001b[0;31m---------------------------------------------------------------------------\u001b[0m",
            "\u001b[0;31mKeyboardInterrupt\u001b[0m                         Traceback (most recent call last)",
            "\u001b[0;32m/tmp/ipython-input-1461688132.py\u001b[0m in \u001b[0;36m<cell line: 0>\u001b[0;34m()\u001b[0m\n\u001b[0;32m----> 1\u001b[0;31m \u001b[0mproject_link\u001b[0m \u001b[0;34m=\u001b[0m \u001b[0mmurede\u001b[0m\u001b[0;34m.\u001b[0m\u001b[0mget_project_link\u001b[0m\u001b[0;34m(\u001b[0m\u001b[0;34m)\u001b[0m\u001b[0;34m\u001b[0m\u001b[0;34m\u001b[0m\u001b[0m\n\u001b[0m",
            "\u001b[0;32m/tmp/ipython-input-514303184.py\u001b[0m in \u001b[0;36mget_project_link\u001b[0;34m(self)\u001b[0m\n\u001b[1;32m     75\u001b[0m         \u001b[0murl_pattern\u001b[0m \u001b[0;34m=\u001b[0m \u001b[0mre\u001b[0m\u001b[0;34m.\u001b[0m\u001b[0mcompile\u001b[0m\u001b[0;34m(\u001b[0m\u001b[0;34mr'^(https?://)?([\\w\\-]+\\.)+[a-z]{2,}(/[\\w\\-./?%&=]*)?$'\u001b[0m\u001b[0;34m)\u001b[0m\u001b[0;34m\u001b[0m\u001b[0;34m\u001b[0m\u001b[0m\n\u001b[1;32m     76\u001b[0m         \u001b[0;32mwhile\u001b[0m \u001b[0;32mTrue\u001b[0m\u001b[0;34m:\u001b[0m\u001b[0;34m\u001b[0m\u001b[0;34m\u001b[0m\u001b[0m\n\u001b[0;32m---> 77\u001b[0;31m             \u001b[0mlink\u001b[0m \u001b[0;34m=\u001b[0m \u001b[0minput\u001b[0m\u001b[0;34m(\u001b[0m\u001b[0;34m\"Enter your personal project link (e.g., GitHub): \"\u001b[0m\u001b[0;34m)\u001b[0m\u001b[0;34m.\u001b[0m\u001b[0mstrip\u001b[0m\u001b[0;34m(\u001b[0m\u001b[0;34m)\u001b[0m\u001b[0;34m\u001b[0m\u001b[0;34m\u001b[0m\u001b[0m\n\u001b[0m\u001b[1;32m     78\u001b[0m             \u001b[0;32mif\u001b[0m \u001b[0murl_pattern\u001b[0m\u001b[0;34m.\u001b[0m\u001b[0mmatch\u001b[0m\u001b[0;34m(\u001b[0m\u001b[0mlink\u001b[0m\u001b[0;34m)\u001b[0m\u001b[0;34m:\u001b[0m\u001b[0;34m\u001b[0m\u001b[0;34m\u001b[0m\u001b[0m\n\u001b[1;32m     79\u001b[0m                 \u001b[0mself\u001b[0m\u001b[0;34m.\u001b[0m\u001b[0mproject_link\u001b[0m \u001b[0;34m=\u001b[0m \u001b[0mlink\u001b[0m\u001b[0;34m\u001b[0m\u001b[0;34m\u001b[0m\u001b[0m\n",
            "\u001b[0;32m/usr/local/lib/python3.11/dist-packages/ipykernel/kernelbase.py\u001b[0m in \u001b[0;36mraw_input\u001b[0;34m(self, prompt)\u001b[0m\n\u001b[1;32m   1175\u001b[0m                 \u001b[0;34m\"raw_input was called, but this frontend does not support input requests.\"\u001b[0m\u001b[0;34m\u001b[0m\u001b[0;34m\u001b[0m\u001b[0m\n\u001b[1;32m   1176\u001b[0m             )\n\u001b[0;32m-> 1177\u001b[0;31m         return self._input_request(\n\u001b[0m\u001b[1;32m   1178\u001b[0m             \u001b[0mstr\u001b[0m\u001b[0;34m(\u001b[0m\u001b[0mprompt\u001b[0m\u001b[0;34m)\u001b[0m\u001b[0;34m,\u001b[0m\u001b[0;34m\u001b[0m\u001b[0;34m\u001b[0m\u001b[0m\n\u001b[1;32m   1179\u001b[0m             \u001b[0mself\u001b[0m\u001b[0;34m.\u001b[0m\u001b[0m_parent_ident\u001b[0m\u001b[0;34m[\u001b[0m\u001b[0;34m\"shell\"\u001b[0m\u001b[0;34m]\u001b[0m\u001b[0;34m,\u001b[0m\u001b[0;34m\u001b[0m\u001b[0;34m\u001b[0m\u001b[0m\n",
            "\u001b[0;32m/usr/local/lib/python3.11/dist-packages/ipykernel/kernelbase.py\u001b[0m in \u001b[0;36m_input_request\u001b[0;34m(self, prompt, ident, parent, password)\u001b[0m\n\u001b[1;32m   1217\u001b[0m             \u001b[0;32mexcept\u001b[0m \u001b[0mKeyboardInterrupt\u001b[0m\u001b[0;34m:\u001b[0m\u001b[0;34m\u001b[0m\u001b[0;34m\u001b[0m\u001b[0m\n\u001b[1;32m   1218\u001b[0m                 \u001b[0;31m# re-raise KeyboardInterrupt, to truncate traceback\u001b[0m\u001b[0;34m\u001b[0m\u001b[0;34m\u001b[0m\u001b[0m\n\u001b[0;32m-> 1219\u001b[0;31m                 \u001b[0;32mraise\u001b[0m \u001b[0mKeyboardInterrupt\u001b[0m\u001b[0;34m(\u001b[0m\u001b[0;34m\"Interrupted by user\"\u001b[0m\u001b[0;34m)\u001b[0m \u001b[0;32mfrom\u001b[0m \u001b[0;32mNone\u001b[0m\u001b[0;34m\u001b[0m\u001b[0;34m\u001b[0m\u001b[0m\n\u001b[0m\u001b[1;32m   1220\u001b[0m             \u001b[0;32mexcept\u001b[0m \u001b[0mException\u001b[0m\u001b[0;34m:\u001b[0m\u001b[0;34m\u001b[0m\u001b[0;34m\u001b[0m\u001b[0m\n\u001b[1;32m   1221\u001b[0m                 \u001b[0mself\u001b[0m\u001b[0;34m.\u001b[0m\u001b[0mlog\u001b[0m\u001b[0;34m.\u001b[0m\u001b[0mwarning\u001b[0m\u001b[0;34m(\u001b[0m\u001b[0;34m\"Invalid Message:\"\u001b[0m\u001b[0;34m,\u001b[0m \u001b[0mexc_info\u001b[0m\u001b[0;34m=\u001b[0m\u001b[0;32mTrue\u001b[0m\u001b[0;34m)\u001b[0m\u001b[0;34m\u001b[0m\u001b[0;34m\u001b[0m\u001b[0m\n",
            "\u001b[0;31mKeyboardInterrupt\u001b[0m: Interrupted by user"
          ]
        }
      ]
    },
    {
      "cell_type": "code",
      "source": [
        "# Need to update how we search for the skills within the resume\n",
        "murede_resume = murede.upload_and_parse_resume()"
      ],
      "metadata": {
        "colab": {
          "base_uri": "https://localhost:8080/",
          "height": 108
        },
        "id": "ZCSj0qlJuAgH",
        "outputId": "52a96a42-7a36-4c9f-a1ab-b719e0ef8950"
      },
      "execution_count": 25,
      "outputs": [
        {
          "output_type": "stream",
          "name": "stdout",
          "text": [
            "Upload your resume in PDF format: \n",
            "\n"
          ]
        },
        {
          "output_type": "display_data",
          "data": {
            "text/plain": [
              "<IPython.core.display.HTML object>"
            ],
            "text/html": [
              "\n",
              "     <input type=\"file\" id=\"files-c864d265-3bc6-442e-90db-abc0a5a96284\" name=\"files[]\" multiple disabled\n",
              "        style=\"border:none\" />\n",
              "     <output id=\"result-c864d265-3bc6-442e-90db-abc0a5a96284\">\n",
              "      Upload widget is only available when the cell has been executed in the\n",
              "      current browser session. Please rerun this cell to enable.\n",
              "      </output>\n",
              "      <script>// Copyright 2017 Google LLC\n",
              "//\n",
              "// Licensed under the Apache License, Version 2.0 (the \"License\");\n",
              "// you may not use this file except in compliance with the License.\n",
              "// You may obtain a copy of the License at\n",
              "//\n",
              "//      http://www.apache.org/licenses/LICENSE-2.0\n",
              "//\n",
              "// Unless required by applicable law or agreed to in writing, software\n",
              "// distributed under the License is distributed on an \"AS IS\" BASIS,\n",
              "// WITHOUT WARRANTIES OR CONDITIONS OF ANY KIND, either express or implied.\n",
              "// See the License for the specific language governing permissions and\n",
              "// limitations under the License.\n",
              "\n",
              "/**\n",
              " * @fileoverview Helpers for google.colab Python module.\n",
              " */\n",
              "(function(scope) {\n",
              "function span(text, styleAttributes = {}) {\n",
              "  const element = document.createElement('span');\n",
              "  element.textContent = text;\n",
              "  for (const key of Object.keys(styleAttributes)) {\n",
              "    element.style[key] = styleAttributes[key];\n",
              "  }\n",
              "  return element;\n",
              "}\n",
              "\n",
              "// Max number of bytes which will be uploaded at a time.\n",
              "const MAX_PAYLOAD_SIZE = 100 * 1024;\n",
              "\n",
              "function _uploadFiles(inputId, outputId) {\n",
              "  const steps = uploadFilesStep(inputId, outputId);\n",
              "  const outputElement = document.getElementById(outputId);\n",
              "  // Cache steps on the outputElement to make it available for the next call\n",
              "  // to uploadFilesContinue from Python.\n",
              "  outputElement.steps = steps;\n",
              "\n",
              "  return _uploadFilesContinue(outputId);\n",
              "}\n",
              "\n",
              "// This is roughly an async generator (not supported in the browser yet),\n",
              "// where there are multiple asynchronous steps and the Python side is going\n",
              "// to poll for completion of each step.\n",
              "// This uses a Promise to block the python side on completion of each step,\n",
              "// then passes the result of the previous step as the input to the next step.\n",
              "function _uploadFilesContinue(outputId) {\n",
              "  const outputElement = document.getElementById(outputId);\n",
              "  const steps = outputElement.steps;\n",
              "\n",
              "  const next = steps.next(outputElement.lastPromiseValue);\n",
              "  return Promise.resolve(next.value.promise).then((value) => {\n",
              "    // Cache the last promise value to make it available to the next\n",
              "    // step of the generator.\n",
              "    outputElement.lastPromiseValue = value;\n",
              "    return next.value.response;\n",
              "  });\n",
              "}\n",
              "\n",
              "/**\n",
              " * Generator function which is called between each async step of the upload\n",
              " * process.\n",
              " * @param {string} inputId Element ID of the input file picker element.\n",
              " * @param {string} outputId Element ID of the output display.\n",
              " * @return {!Iterable<!Object>} Iterable of next steps.\n",
              " */\n",
              "function* uploadFilesStep(inputId, outputId) {\n",
              "  const inputElement = document.getElementById(inputId);\n",
              "  inputElement.disabled = false;\n",
              "\n",
              "  const outputElement = document.getElementById(outputId);\n",
              "  outputElement.innerHTML = '';\n",
              "\n",
              "  const pickedPromise = new Promise((resolve) => {\n",
              "    inputElement.addEventListener('change', (e) => {\n",
              "      resolve(e.target.files);\n",
              "    });\n",
              "  });\n",
              "\n",
              "  const cancel = document.createElement('button');\n",
              "  inputElement.parentElement.appendChild(cancel);\n",
              "  cancel.textContent = 'Cancel upload';\n",
              "  const cancelPromise = new Promise((resolve) => {\n",
              "    cancel.onclick = () => {\n",
              "      resolve(null);\n",
              "    };\n",
              "  });\n",
              "\n",
              "  // Wait for the user to pick the files.\n",
              "  const files = yield {\n",
              "    promise: Promise.race([pickedPromise, cancelPromise]),\n",
              "    response: {\n",
              "      action: 'starting',\n",
              "    }\n",
              "  };\n",
              "\n",
              "  cancel.remove();\n",
              "\n",
              "  // Disable the input element since further picks are not allowed.\n",
              "  inputElement.disabled = true;\n",
              "\n",
              "  if (!files) {\n",
              "    return {\n",
              "      response: {\n",
              "        action: 'complete',\n",
              "      }\n",
              "    };\n",
              "  }\n",
              "\n",
              "  for (const file of files) {\n",
              "    const li = document.createElement('li');\n",
              "    li.append(span(file.name, {fontWeight: 'bold'}));\n",
              "    li.append(span(\n",
              "        `(${file.type || 'n/a'}) - ${file.size} bytes, ` +\n",
              "        `last modified: ${\n",
              "            file.lastModifiedDate ? file.lastModifiedDate.toLocaleDateString() :\n",
              "                                    'n/a'} - `));\n",
              "    const percent = span('0% done');\n",
              "    li.appendChild(percent);\n",
              "\n",
              "    outputElement.appendChild(li);\n",
              "\n",
              "    const fileDataPromise = new Promise((resolve) => {\n",
              "      const reader = new FileReader();\n",
              "      reader.onload = (e) => {\n",
              "        resolve(e.target.result);\n",
              "      };\n",
              "      reader.readAsArrayBuffer(file);\n",
              "    });\n",
              "    // Wait for the data to be ready.\n",
              "    let fileData = yield {\n",
              "      promise: fileDataPromise,\n",
              "      response: {\n",
              "        action: 'continue',\n",
              "      }\n",
              "    };\n",
              "\n",
              "    // Use a chunked sending to avoid message size limits. See b/62115660.\n",
              "    let position = 0;\n",
              "    do {\n",
              "      const length = Math.min(fileData.byteLength - position, MAX_PAYLOAD_SIZE);\n",
              "      const chunk = new Uint8Array(fileData, position, length);\n",
              "      position += length;\n",
              "\n",
              "      const base64 = btoa(String.fromCharCode.apply(null, chunk));\n",
              "      yield {\n",
              "        response: {\n",
              "          action: 'append',\n",
              "          file: file.name,\n",
              "          data: base64,\n",
              "        },\n",
              "      };\n",
              "\n",
              "      let percentDone = fileData.byteLength === 0 ?\n",
              "          100 :\n",
              "          Math.round((position / fileData.byteLength) * 100);\n",
              "      percent.textContent = `${percentDone}% done`;\n",
              "\n",
              "    } while (position < fileData.byteLength);\n",
              "  }\n",
              "\n",
              "  // All done.\n",
              "  yield {\n",
              "    response: {\n",
              "      action: 'complete',\n",
              "    }\n",
              "  };\n",
              "}\n",
              "\n",
              "scope.google = scope.google || {};\n",
              "scope.google.colab = scope.google.colab || {};\n",
              "scope.google.colab._files = {\n",
              "  _uploadFiles,\n",
              "  _uploadFilesContinue,\n",
              "};\n",
              "})(self);\n",
              "</script> "
            ]
          },
          "metadata": {}
        },
        {
          "output_type": "stream",
          "name": "stdout",
          "text": [
            "Saving Murede's Techinical Resume - March 2025.pdf to Murede's Techinical Resume - March 2025 (1).pdf\n"
          ]
        }
      ]
    },
    {
      "cell_type": "code",
      "source": [
        "murede_skills = murede.extract_resume_skills(murede_resume)\n",
        "murede_skills"
      ],
      "metadata": {
        "colab": {
          "base_uri": "https://localhost:8080/"
        },
        "id": "kSZT91J_vB9n",
        "outputId": "891c45f1-1e26-49f9-f63a-0eb7a2fb1a5a"
      },
      "execution_count": 15,
      "outputs": [
        {
          "output_type": "execute_result",
          "data": {
            "text/plain": [
              "['Python']"
            ]
          },
          "metadata": {},
          "execution_count": 15
        }
      ]
    },
    {
      "cell_type": "code",
      "source": [
        "murede.match_skills_from_csv(user_skills=murede_skills, career=\"Electrical Engineering\")"
      ],
      "metadata": {
        "colab": {
          "base_uri": "https://localhost:8080/",
          "height": 141
        },
        "id": "AqXKwMumw3EL",
        "outputId": "ddfbbaea-cd22-44b3-8bca-2abd96419f7a"
      },
      "execution_count": 18,
      "outputs": [
        {
          "output_type": "error",
          "ename": "TypeError",
          "evalue": "InterprepUser.match_skills_from_csv() got multiple values for argument 'user_skills'",
          "traceback": [
            "\u001b[0;31m---------------------------------------------------------------------------\u001b[0m",
            "\u001b[0;31mTypeError\u001b[0m                                 Traceback (most recent call last)",
            "\u001b[0;32m/tmp/ipython-input-818888848.py\u001b[0m in \u001b[0;36m<cell line: 0>\u001b[0;34m()\u001b[0m\n\u001b[0;32m----> 1\u001b[0;31m \u001b[0mmurede\u001b[0m\u001b[0;34m.\u001b[0m\u001b[0mmatch_skills_from_csv\u001b[0m\u001b[0;34m(\u001b[0m\u001b[0muser_skills\u001b[0m\u001b[0;34m=\u001b[0m\u001b[0mmurede_skills\u001b[0m\u001b[0;34m,\u001b[0m \u001b[0mcareer\u001b[0m\u001b[0;34m=\u001b[0m\u001b[0;34m\"Electrical Engineering\"\u001b[0m\u001b[0;34m)\u001b[0m\u001b[0;34m\u001b[0m\u001b[0;34m\u001b[0m\u001b[0m\n\u001b[0m",
            "\u001b[0;31mTypeError\u001b[0m: InterprepUser.match_skills_from_csv() got multiple values for argument 'user_skills'"
          ]
        }
      ]
    },
    {
      "cell_type": "code",
      "source": [
        "murede.recommend_resources()"
      ],
      "metadata": {
        "colab": {
          "base_uri": "https://localhost:8080/"
        },
        "id": "6h6muGgew2z1",
        "outputId": "94671d5a-bd77-46ea-e22c-f128d499fdbc"
      },
      "execution_count": null,
      "outputs": [
        {
          "output_type": "stream",
          "name": "stdout",
          "text": [
            "Skill: Figma\n",
            "Skill: User Research\n",
            "Skill: Wireframes\n",
            "Skill: Prototyping\n"
          ]
        }
      ]
    },
    {
      "cell_type": "code",
      "source": [
        "murede.generate_plan()"
      ],
      "metadata": {
        "colab": {
          "base_uri": "https://localhost:8080/"
        },
        "id": "YviSCbQWyCnJ",
        "outputId": "6e44c42e-9549-4a8c-8800-e9b22bee1dac"
      },
      "execution_count": null,
      "outputs": [
        {
          "output_type": "stream",
          "name": "stdout",
          "text": [
            "\n",
            "📅 Suggested Learning Plan:\n",
            "Step 1: Learn Figma\n",
            "Step 2: Learn User Research\n",
            "Step 3: Learn Wireframes\n",
            "Step 4: Learn Prototyping\n"
          ]
        }
      ]
    }
  ]
}